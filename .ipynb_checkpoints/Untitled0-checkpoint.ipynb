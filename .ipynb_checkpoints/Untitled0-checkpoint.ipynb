{
 "metadata": {
  "name": "",
  "signature": "sha256:68cf45a230355eb16eba5affca4bfaaa4f2d18d3ed0ad362c4c466633aff7c43"
 },
 "nbformat": 3,
 "nbformat_minor": 0,
 "worksheets": []
}