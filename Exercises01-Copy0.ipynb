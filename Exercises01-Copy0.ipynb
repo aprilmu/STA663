{
 "metadata": {
  "name": "",
  "signature": "sha256:00e1de85215cf5787d4d5b72889a2929b1e815b941fed56335cae2ea55fb17ff"
 },
 "nbformat": 3,
 "nbformat_minor": 0,
 "worksheets": [
  {
   "cells": [
    {
     "cell_type": "code",
     "collapsed": false,
     "input": [
      "from IPython.display import Image"
     ],
     "language": "python",
     "metadata": {},
     "outputs": [],
     "prompt_number": 1
    },
    {
     "cell_type": "markdown",
     "metadata": {},
     "source": [
      "Computer lab\n",
      "----\n",
      "\n",
      "These exercises are designed to give you some practice coding in Python and proivde familiarity with the language syntax."
     ]
    },
    {
     "cell_type": "markdown",
     "metadata": {},
     "source": [
      "**Exercise 1 [10 pts]**. Write code to solve the [Project Euler puzzle 1](https://projecteuler.net/problems)"
     ]
    },
    {
     "cell_type": "code",
     "collapsed": false,
     "input": [
      "# Your code here\n",
      "summ=0\n",
      "for i in range(1,1001):\n",
      "    if (i%3==0) | (i%5==0):\n",
      "        summ=summ+i\n",
      "print(summ)"
     ],
     "language": "python",
     "metadata": {},
     "outputs": [
      {
       "output_type": "stream",
       "stream": "stdout",
       "text": [
        "234168\n"
       ]
      }
     ],
     "prompt_number": 31
    },
    {
     "cell_type": "markdown",
     "metadata": {},
     "source": [
      "**Exericse 2 [10 pts]**. Wikipedia gives the sample correlation coefficient formula as shown below. Write functions to calculate the sample mean, the sample standard deviation and the sample correlation coefficient. Calculate the sample correlation coefficent for the following lists of numbers:\n",
      "\n",
      "```python\n",
      "x = [10.0, 8.0, 13.0, 9.0, 11.0, 14.0, 6.0, 4.0, 12.0, 7.0, 5.0]\n",
      "y = [8.04, 6.95, 7.58, 8.81, 8.33, 9.96, 7.24, 4.26, 10.84, 4.82, 5.68]\n",
      "```\n",
      "\n",
      "Do NOT use `numpy`  functions - the idea is to code the functions yourself! The square root of $x$ can be calculated as ```x**0.5```."
     ]
    },
    {
     "cell_type": "code",
     "collapsed": false,
     "input": [
      "Image(url=\"http://upload.wikimedia.org/math/0/4/e/04e3ee493ddb1f01e03d8bf024fbd0a5.png\")"
     ],
     "language": "python",
     "metadata": {},
     "outputs": [
      {
       "html": [
        "<img src=\"http://upload.wikimedia.org/math/0/4/e/04e3ee493ddb1f01e03d8bf024fbd0a5.png\"/>"
       ],
       "metadata": {},
       "output_type": "pyout",
       "prompt_number": 3,
       "text": [
        "<IPython.core.display.Image at 0x1033e2e50>"
       ]
      }
     ],
     "prompt_number": 3
    },
    {
     "cell_type": "code",
     "collapsed": false,
     "input": [
      "Image(url=\"http://upload.wikimedia.org/math/7/0/d/70df5220933ae8298cd5ef1c719360bf.png\")"
     ],
     "language": "python",
     "metadata": {},
     "outputs": [
      {
       "html": [
        "<img src=\"http://upload.wikimedia.org/math/7/0/d/70df5220933ae8298cd5ef1c719360bf.png\"/>"
       ],
       "metadata": {},
       "output_type": "pyout",
       "prompt_number": 4,
       "text": [
        "<IPython.core.display.Image at 0x10369d310>"
       ]
      }
     ],
     "prompt_number": 4
    },
    {
     "cell_type": "code",
     "collapsed": false,
     "input": [
      "# Your code here\n",
      "x = [10.0, 8.0, 13.0, 9.0, 11.0, 14.0, 6.0, 4.0, 12.0, 7.0, 5.0]\n",
      "y = [8.04, 6.95, 7.58, 8.81, 8.33, 9.96, 7.24, 4.26, 10.84, 4.82, 5.68]\n",
      "\n",
      "def sampleMean(x):\n",
      "    \"\"\"Returns the sample mean.\"\"\"\n",
      "    mean=sum(x)/len(x)\n",
      "    return mean\n",
      "\n",
      "def sampleSD(x):\n",
      "    \"\"\"Returns the sample standard deviation.\"\"\"\n",
      "    mean=sampleMean(x)\n",
      "    a=[]\n",
      "    for i in range(0,len(x)):\n",
      "        a.append((x[i]-mean)**2)\n",
      "    sd=(sum(a)/(len(x)-1))**0.5\n",
      "    return sd\n",
      "\n",
      "def CorrCoef(x,y):\n",
      "    \"\"\"Returns the sample correlation coefficient.\"\"\"\n",
      "    xmean=sampleMean(x)\n",
      "    ymean=sampleMean(y)\n",
      "    xsd=sampleSD(x)\n",
      "    ysd=sampleSD(y)\n",
      "    z=range(0,len(x))\n",
      "    for i in z:\n",
      "        z[i]=((x[i]-xmean)/xsd)*((y[i]-ymean)/ysd)\n",
      "    r=sum(z)/(len(x)-1)\n",
      "    return r\n",
      "\n",
      "print CorrCoef(x,y)"
     ],
     "language": "python",
     "metadata": {},
     "outputs": [
      {
       "output_type": "stream",
       "stream": "stdout",
       "text": [
        "0.816420516345\n"
       ]
      }
     ],
     "prompt_number": 34
    },
    {
     "cell_type": "markdown",
     "metadata": {},
     "source": [
      "**Exercise 3** [10 pts]. Write a function to calculate hailstone numbers.\n",
      "\n",
      "Start with any positive integer (an initial seed) and obtain a sequence of numbers by following these rules.\n",
      "\n",
      "1. Base case: If the number is 1, stop.\n",
      "2. Recursvie case: If the current number is even, divide it by two; else if it is odd, multiply it by three and add one. \n",
      "\n",
      "The seqeunce of numbers obtained are known as *hailstone numbers* - although it is not proven that all sequences will eventually terminate with 1 (Collatz conjecture), no couter-example has yet been found. \n",
      "\n",
      "For example, starting with 7, we get the seuqence 7, 22, 11, 34, 17, 52, 26, 13, 40, 20, 10, 5, 16, 8, 4, 2, 1, 4, 2, 1.\n",
      "\n",
      "A recursive function to find the sequence of hailstone nummbers is given below. Write a *non-recursvie* version of the function that gives the same result. Using your function, what is the length of the sequeence obtained when we start with 23?\n",
      "\n",
      "```python\n",
      "def hailstone(n, acc=None):\n",
      "    \"\"\"Given a positive integer n, return the series of hailstone numbers.\"\"\"\n",
      "    if acc is None:\n",
      "        acc = []\n",
      "    acc.append(n)\n",
      "    if n == 1:\n",
      "        return acc\n",
      "    else:\n",
      "        if n%2 == 0:\n",
      "            return hailstone(n/2, acc)\n",
      "        else:\n",
      "            return hailstone(n*3 + 1, acc)\n",
      "```"
     ]
    },
    {
     "cell_type": "code",
     "collapsed": false,
     "input": [
      "# Your code here\n",
      "def hailstone(n,acc=None):\n",
      "    \"\"\"Given a positive integer n, return the series of hailstone numbers.\"\"\"\n",
      "    if acc is None:\n",
      "        acc=[]\n",
      "    acc.append(n)\n",
      "    while n!=1:\n",
      "        if n%2==0:\n",
      "            n=n/2\n",
      "            acc.append(n)\n",
      "        else:\n",
      "            n=n*3+1\n",
      "            acc.append(n)\n",
      "    return acc\n",
      "\n",
      "print hailstone(23)\n",
      "print len(hailstone(23))"
     ],
     "language": "python",
     "metadata": {},
     "outputs": [
      {
       "output_type": "stream",
       "stream": "stdout",
       "text": [
        "[23, 70, 35, 106, 53, 160, 80, 40, 20, 10, 5, 16, 8, 4, 2, 1]\n",
        "16\n"
       ]
      }
     ],
     "prompt_number": 6
    },
    {
     "cell_type": "markdown",
     "metadata": {},
     "source": [
      "**Exercise 4 [20 pts]**. A Caesar cipher replaces each in a string with the letter $k$ modulo 26 positions down. For example, with $k=3$, 'a' would become 'd', 'b' would become 'e' and so on. The Caesar cipher is very easy to crack, since the relative letter frequencies are preserved - that is, 'e' is the most commonly used English letter, so the most frequent letter in the cipher is likely to be the code for 'e'. We can download a large corpus of English text (e.g. a few books from Project Gutenberg), and estimate the individual letter frequencies. Using for example, a multinomial model where each letter is one of 26 possibiilites with frequencies given by the the previous estimates, and assuming that each letter is independent, we can simply go through all 26 possible values of $k$ and choose the model with the highest likelihood. Or just use $\\chi^2$ statistic to compare observed and expected frequencies.\n",
      "\n",
      "Have an extended exercise to write a Caesar encoder and code to crack the cipher. \n",
      "\n",
      "- Writing the encoder/decoder\n",
      "    - Convert a sentence to lowercase\n",
      "    - Write a function let2int to convert a lowercase letter to a number from 0 to 25\n",
      "    - Write the reverse function int2let to convert a number to a lowercase letter\n",
      "    - Examples with the ternary operator in a list comprehsnsion\n",
      "    - Write a functiton to encode a sentecne with shift k\n",
      "    - Write a function to decode a sentence with shfit k\n",
      "    - Confirm that sentence = decode(encode(sentence))\n",
      "    \n",
      "- Writing the cracker\n",
      "    - Write a function to download a book from Project Gutenberg\n",
      "    ```python\n",
      "    text = urllib2.urlopen('http://www.gutenberg.org/ebooks/1342.txt.utf-8').read()\n",
      "    ```\n",
      "    - Write a fucntion to estimte letter frequencies in text\n",
      "    - Write a function to calculate the $\\chi^2$ statistic given observed and expected frequencies\n",
      "    - Write a cracker to deecode encrypted text by choosing the shift $k$ with the smallest $\\chi^2$ score"
     ]
    },
    {
     "cell_type": "code",
     "collapsed": false,
     "input": [
      "# Your code here\n",
      "import string\n",
      "\n",
      "#Encoder/Decoder\n",
      "sentence=\"Hello World!\"\n",
      "sentence=sentence.lower()\n",
      "\n",
      "def let2int(letter):\n",
      "    \"\"\"Convert a lowercase letter to a number from 0 to 25.\"\"\"\n",
      "    num=ord(letter)-97\n",
      "    return num\n",
      "\n",
      "def int2let(num):\n",
      "    \"\"\"Convert a number to a lowercase letter.\"\"\"\n",
      "    letter=chr(num%26+ord('a'))\n",
      "    return letter\n",
      "\n",
      "def encode(sentence,k):\n",
      "    \"\"\"Encode a sentence with shift k.\"\"\"\n",
      "    s=list(sentence)\n",
      "    for i,let in enumerate(s):\n",
      "        if (s[i] not in string.punctuation) & (s[i]!=\" \"):\n",
      "            let2=int2let(let2int(let)+k)\n",
      "            s[i]=let2\n",
      "    out=''.join(s)\n",
      "    return out\n",
      "\n",
      "def decode(sentence,k):\n",
      "    \"\"\"Decode a sentence with shift k.\"\"\"\n",
      "    s=list(sentence)\n",
      "    for i,let in enumerate(s):\n",
      "        if (s[i]not in string.punctuation) & (s[i]!=\" \"):\n",
      "            let2=int2let(let2int(let)-k)\n",
      "            s[i]=let2\n",
      "    out=''.join(s)\n",
      "    return out\n",
      "\n",
      "sentence == decode(encode(sentence,1),1)\n",
      "\n",
      "#Cracker\n",
      "import urllib2\n",
      "\n",
      "url='http://www.gutenberg.org/ebooks/1342.txt.utf-8'\n",
      "def download(url):\n",
      "    \"\"\"Download a book from project Gutenberg.\"\"\"\n",
      "    text = urllib2.urlopen(url).read()\n",
      "    return text\n",
      "\n",
      "def let_freq(text):\n",
      "    \"\"\"Estimate letter frequencies in text.\"\"\"\n",
      "    text1=text.lower().translate(None, string.punctuation).replace(' ', '').replace('\\n', '').replace('\\r','')\n",
      "    counter={}\n",
      "    for i in text1:\n",
      "        counter[i]=counter.get(i,0.0)+1.0\n",
      "    alphabet='abcdefghijklmnopqrstuvwxyz'\n",
      "    freq=[counter[x]/len(text1) for x in alphabet]\n",
      "    return freq\n",
      "\n",
      "def chisq(obs,exp):\n",
      "    \"\"\"Calculate the Chi-square statistic given observed and expected frequencies.\"\"\"\n",
      "    score=range(26)\n",
      "    for i in range(26):\n",
      "        score[i]=(obs[i]-exp[i])**2/exp[i]\n",
      "        score=sum(score)\n",
      "    return score\n",
      "\n",
      "def cracker(text):\n",
      "    \"\"\"Decode encrypted text by choosing the shift k with the smallest Chi-square score.\"\"\"\n",
      "    alphabet='abcdefghijklmnopqrstuvwxyz'\n",
      "    exp=let_freq(download(url))\n",
      "    score=range(26)\n",
      "    for i in range(26):\n",
      "        obs=let_freq(text)\n",
      "        score[i]=chisq(obs,exp)\n",
      "    k=score.index(min(score))+1\n",
      "    text1=decode(text,k)\n",
      "    return text1\n"
     ],
     "language": "python",
     "metadata": {},
     "outputs": [
      {
       "metadata": {},
       "output_type": "pyout",
       "prompt_number": 24,
       "text": [
        "True"
       ]
      }
     ],
     "prompt_number": 24
    }
   ],
   "metadata": {}
  }
 ]
}